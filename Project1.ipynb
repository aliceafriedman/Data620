{
 "cells": [
  {
   "cell_type": "markdown",
   "metadata": {},
   "source": [
    "#    Data 620, Project 1\n",
    "Team 6: Alice Friedman, Jun Pan, Stephen (Scott) Jones, and Jeff Littlejohn\n",
    "June 19, 2019"
   ]
  },
  {
   "cell_type": "markdown",
   "metadata": {},
   "source": [
    "## Part 1: Setup\n",
    "\n",
    "- Install required packages (NetworkX, Matplotlib.pyplot)"
   ]
  },
  {
   "cell_type": "markdown",
   "metadata": {},
   "source": [
    "## Load Data\n",
    "\n",
    "- Load data into csv(?) from https://snap.stanford.edu/data/twitter-2010.html"
   ]
  },
  {
   "cell_type": "markdown",
   "metadata": {},
   "source": [
    "## Data Exploration\n",
    "\n",
    "Describe data structure and available fields"
   ]
  },
  {
   "cell_type": "markdown",
   "metadata": {},
   "source": [
    "## Create Graph\n",
    "\n",
    "To create a social network graph of users with a directed \"follow\" relationship to official campaign Twitter of Deval Patrick, who ran for office in 2010\n",
    "\n",
    "- Add \"ego\" to graph by locating Twitter user Devel Patrick \n",
    "- From TwitterID, Deval Patrick has userID @devalpatrick => 61636488\n",
    "- Add edges based on users who follow @devalpatrick\n",
    "    - Include as metadata verified status, or other categorical data\n",
    "- Create list of TwitterIDs for depth=1\n",
    "- Add depth=2 edges of users who follow users identified in list above\n",
    "\n",
    "*Does this make sense? Should we add edges in both directions?\n",
    "\n"
   ]
  },
  {
   "cell_type": "markdown",
   "metadata": {},
   "source": [
    "## Plot Initial Graph Structure"
   ]
  },
  {
   "cell_type": "markdown",
   "metadata": {},
   "source": [
    "## Subset Graph\n",
    "\n",
    "Use core or island methods described in text book to identify communities"
   ]
  },
  {
   "cell_type": "markdown",
   "metadata": {},
   "source": [
    "## Plot Subsetted Graph"
   ]
  },
  {
   "cell_type": "markdown",
   "metadata": {},
   "source": [
    "## Analyze Graph\n",
    "\n",
    "- Graph Diameter\n",
    "- Avegage centrality measures (betweenness, degree, pagerank)\n",
    "    - Plot centrality measures?\n",
    "\n",
    "Then, calculate each of these measures by verified status --> create dataframe"
   ]
  },
  {
   "cell_type": "markdown",
   "metadata": {},
   "source": [
    "## Conclusions, Discussion"
   ]
  },
  {
   "cell_type": "markdown",
   "metadata": {},
   "source": [
    "## References\n",
    "\n",
    "Data source: [Stanford University Twitter Follower Network, 2010](https://snap.stanford.edu/data/twitter-2010.html)"
   ]
  }
 ],
 "metadata": {
  "kernelspec": {
   "display_name": "Python 3",
   "language": "python",
   "name": "python3"
  },
  "language_info": {
   "codemirror_mode": {
    "name": "ipython",
    "version": 3
   },
   "file_extension": ".py",
   "mimetype": "text/x-python",
   "name": "python",
   "nbconvert_exporter": "python",
   "pygments_lexer": "ipython3",
   "version": "3.7.3"
  }
 },
 "nbformat": 4,
 "nbformat_minor": 2
}
